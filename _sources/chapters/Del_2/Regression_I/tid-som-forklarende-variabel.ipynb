{
 "cells": [
  {
   "cell_type": "markdown",
   "metadata": {},
   "source": [
    "# Tid som forklarende variabel\n",
    "\n",
    "Rigtig mange datasæt går ud på at undersøge, hvordan vores responsvariabel $y_i$ udvikler sig over tid. Det kunne for eksempel være, hvordan befolkningstilvæksten udvikler sig for hvert år, der går. Uden at røbe for meget, så er en eksponentiel model god til at beskrive en sådan udvikling. Det vil vi se på i {numref}`Kapitel %s<ch-simpel-ikke-lineaer-regression>`.\n",
    "\n",
    "Vi vil benævne tid med $t$. Undersøger vi et sådan datasæt, kan vi forestille os, at det har formen\n",
    "\n",
    "$$\n",
    "\n",
    "    (t_1,y_1),(t_2,y_2),\\dots,(t_n,y_n).\n",
    "\n",
    "$$\n",
    "\n",
    "Det kan være en god idé at indeksere vores tidsvariabel, hvis den er angivet i årstal. Hvis den er angivet i sekunder, minutter eller timer, så er det ikke nødvendigt. Grunden til dette er, at med årstal som forklarende variabel vil give estimater for modellen, der ser meget voldsomme ud. Derfor kan vi bedre lide at benævne første årstal med 0, andet årstal med 1 og så videre. \n",
    "\n",
    "````{prf:eksempel}\n",
    "\n",
    "Vi får til opgave at hjælpe en virksomhed med at prognosticere salgstal for 2024, 2025 og 2026. De giver os følgende datasæt over deres omsætning over de seneste seks år:\n",
    "\n",
    "| År         | Omsætning (kr.) |\n",
    "| ---------- | --------------- |\n",
    "| 2018       | 26.021          |\n",
    "| 2019       | 38.871          |\n",
    "| 2020       | 61.140          |\n",
    "| 2021       | 84.034          |\n",
    "| 2022       | 101.384         |\n",
    "| 2023       | 118.951         |\n",
    "\n",
    "Eftersom den forklarende variabel er årstal, indekserer vi årene, og bygger modellen på datasættet:\n",
    "\n",
    "| År (indekseret) | Omsætning (kr.) |\n",
    "| --------------- | --------------- |\n",
    "| 0               | 26.021          |\n",
    "| 1               | 38.871          |\n",
    "| 2               | 61.140          |\n",
    "| 3               | 84.034          |\n",
    "| 4               | 101.384         |\n",
    "| 5               | 118.951         |\n",
    "\n",
    "Ved at betragte data i et scatterplot med indekseret år langs $x$-aksen og omsætning langs $y$-aksen bliver det tydeligt, at virksomhedens omsætning udvikler sig lineært. Vi estimerer derfor en lineær model:\n",
    "\n",
    "```{glue:figure} plot\n",
    "```\n",
    "\n",
    "```{glue:math} model\n",
    "```\n",
    "\n",
    "Her er $t$ vores indekseret år og $f(t)$ angiver omsætningen. Med den lineære model kan vi nu prædiktere omsætningen for 2024, 2025 og 2026, da disse blot svarer til indeksårene 6, 7 og 8, henholdsvis. For 2024 prædikteres omsætningen i kr. til:\n",
    "\n",
    "$$\n",
    "\n",
    "    f(6) = 19288.09\\cdot 6 + 23513.29 \\approx 139242\n",
    "\n",
    "$$\n",
    "\n",
    "På samme måde får vi prædiktionerne for 2025 til 158.530 kr. og for 2026 til 177.818 kr.\n",
    "\n",
    "````\n",
    "\n"
   ]
  },
  {
   "cell_type": "code",
   "execution_count": null,
   "metadata": {
    "tags": [
     "remove-cell"
    ]
   },
   "outputs": [],
   "source": [
    "import pandas as pd\n",
    "import numpy as np\n",
    "import matplotlib.pyplot as plt \n",
    "import matplotlib.ticker\n",
    "from myst_nb import glue\n",
    "from sklearn.linear_model import LinearRegression\n",
    "\n",
    "# Data\n",
    "df = pd.DataFrame({\n",
    "    'År (indekseret)': [0,1,2,3,4,5],\n",
    "    'Omsætning (kr.)': [26021,38871,61140,84034,101384,118951]\n",
    "})\n",
    "\n",
    "# Linear regression\n",
    "model = LinearRegression()\n",
    "model.fit(np.array(df['År (indekseret)']).reshape((-1, 1)),df['Omsætning (kr.)'])\n",
    "\n",
    "# Initialize plot mimicing manim/TikZ\n",
    "# Enable LaTeX for all text\n",
    "plt.rc('text', usetex=True)\n",
    "plt.rc('font', family='serif')\n",
    "\n",
    "# Scatter plot\n",
    "fig, ax = plt.subplots()\n",
    "ax.scatter(x=df['År (indekseret)'], y=df['Omsætning (kr.)'], color='#a5c743', zorder=10)\n",
    "\n",
    "# Fitted linear model\n",
    "x_seq=np.linspace(df['År (indekseret)'].min(), df['År (indekseret)'].max()+0.1, 100)\n",
    "y_seq=model.intercept_+model.coef_[0]*x_seq\n",
    "ax.plot(x_seq, y_seq, color = '#6a90cc')\n",
    "ax.annotate(xy=(x_seq[-1],y_seq[-1]), xytext=(5,0), textcoords='offset points', \n",
    "            text=r'\\textit{f}', va='center', color='#6a90cc', fontsize=12)\n",
    "\n",
    "# Remove top and right spines\n",
    "ax.spines[['top', 'right']].set_visible(False)\n",
    "ax.spines[['left']].set_position('zero')\n",
    "\n",
    "# Draw axis arrow tips\n",
    "ax.plot(1, 0, \">k\", transform=ax.transAxes, clip_on=False, markersize=15)  \n",
    "ax.plot(0, 1, \"^k\", transform=ax.get_xaxis_transform(), clip_on=False, markersize=15) \n",
    "\n",
    "# Draw ticks\n",
    "ax.tick_params(direction='inout', length=8, labelsize=12)\n",
    "\n",
    "# Write x and y labels\n",
    "ax.set_xlabel('År (indekseret)', fontsize=12)\n",
    "ax.set_ylabel('Omsætning (kr.)', fontsize=12)\n",
    "\n",
    "# Format y axis with thousand separator\n",
    "ax.get_yaxis().set_major_formatter(matplotlib.ticker.FuncFormatter(lambda x, p: str.replace(format(int(x), ','), ',', '.')))\n",
    "\n",
    "glue('plot', fig, display=False)"
   ]
  },
  {
   "cell_type": "code",
   "execution_count": 56,
   "metadata": {
    "tags": [
     "remove-cell"
    ]
   },
   "outputs": [
    {
     "data": {
      "text/latex": [
       "$\\displaystyle f(t) = 19288{,}09 t + 23513{,}29$"
      ],
      "text/plain": [
       "Eq(f(t), 19288{,}09*t + 23513{,}29)"
      ]
     },
     "metadata": {
      "scrapbook": {
       "mime_prefix": "",
       "name": "model"
      }
     },
     "output_type": "display_data"
    }
   ],
   "source": [
    "import sympy as sym\n",
    "from myst_nb import glue\n",
    "\n",
    "# Writing the model\n",
    "f_t = sym.Symbol('f(t)')\n",
    "model_intercept = sym.Symbol(sym.latex(sym.Float(round(model.intercept_, 2)), decimal_separator=\"comma\"))\n",
    "model_slope = sym.Symbol(sym.latex(sym.Float(round(model.coef_[0], 2)), decimal_separator=\"comma\"))\n",
    "t = sym.Symbol('t')\n",
    "\n",
    "model_eq = sym.Eq(f_t, model_intercept + model_slope * t)\n",
    "glue('model', model_eq)"
   ]
  },
  {
   "cell_type": "markdown",
   "metadata": {},
   "source": [
    "## Opgaver\n",
    "\n",
    "```{prf:opgave}\n",
    "\n",
    "Lineær regression, hvor vi godt kunne tænke os tidligere årgange med indeks (-1)?\n",
    "\n",
    "```"
   ]
  }
 ],
 "metadata": {
  "kernelspec": {
   "display_name": "venv-animat",
   "language": "python",
   "name": "python3"
  },
  "language_info": {
   "codemirror_mode": {
    "name": "ipython",
    "version": 3
   },
   "file_extension": ".py",
   "mimetype": "text/x-python",
   "name": "python",
   "nbconvert_exporter": "python",
   "pygments_lexer": "ipython3",
   "version": "3.8.10"
  },
  "orig_nbformat": 4
 },
 "nbformat": 4,
 "nbformat_minor": 2
}
