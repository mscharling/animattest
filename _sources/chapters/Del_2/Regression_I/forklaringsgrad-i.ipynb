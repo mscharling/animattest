{
 "cells": [
  {
   "cell_type": "markdown",
   "metadata": {},
   "source": [
    "# Forklaringsgrad I\n",
    "\n",
    "Skal vi evaluere en model, kan vi bruge *forklaringsgraden* eller *R-i-anden værdien*, $R^2$. Nogle steder vil du også møde denne størrelse under navnet *determinationskoefficienten*. \n",
    "\n",
    "Forklaringsgraden er et mål for modellens GOF (Goodness Of Fit). Der er flere måder at definere denne størrelse på. Den måde, som vi vil beskæftige os med, relaterer summen af de kvadrerede residualer, $\\text{RSS}$, og den totale kvadratsum, $\\text{TSS}$ (Total Sum of Squares), med hinanden. Den totale kvadratsum er defineret ved\n",
    "\n",
    "$$\n",
    "\n",
    "    \\text{TSS} = (y_1 - \\bar{y})^2 + (y_2 - \\bar{y})^2 + \\cdots + (y_n - \\bar{y})^2 = \\sum_{i=1}^n (y_i - \\bar{y})^2,\n",
    "\n",
    "$$ (eq:total-sum-of-squares) \n",
    "\n",
    "hvor $\\bar{y}$ er gennemsnittet af $y_i$-værdierne, se {eq}`eq:gennemsnit`. Du kan måske genkende den totale kvadratsum fra formlen for stikprøvevarians {eq}`eq:stikproevevarians`, da \n",
    "\n",
    "$$\n",
    "\n",
    "    s^2 = \\frac{1}{n}\\text{TSS}.\n",
    "\n",
    "$$\n",
    "\n",
    "Forklaringsgraden er givet ved\n",
    "\n",
    "$$\n",
    "\n",
    "    R^2 = 1 - \\frac{\\text{RSS}}{\\text{TSS}}\n",
    "\n",
    "$$ (eq:forklaringsgrad)\n",
    "\n",
    "og giver en værdi mellem 0 og 1. Desto tættere modellens forklaringsgrad er på 1, desto bedre passer modellen på vores data. De to yderpunkter svarer til:\n",
    "\n",
    "* $R^2 = 1$ forekommer, når $\\text{RSS}=0$, hvilket betyder, at modellen gennemskærer datapunkterne perfekt. Alle residualer er 0.\n",
    "* $R^2 = 0$ forekommer, når $\\text{RSS}=\\text{TSS}$, hvilket betyder, at modellen blot er den konstante linje lig gennemsnittet $\\bar{y}$. Dette kaldes også *baseline*-modellen. "
   ]
  }
 ],
 "metadata": {
  "kernelspec": {
   "display_name": "venv-animat",
   "language": "python",
   "name": "python3"
  },
  "language_info": {
   "codemirror_mode": {
    "name": "ipython",
    "version": 3
   },
   "file_extension": ".py",
   "mimetype": "text/x-python",
   "name": "python",
   "nbconvert_exporter": "python",
   "pygments_lexer": "ipython3",
   "version": "3.8.10"
  },
  "orig_nbformat": 4
 },
 "nbformat": 4,
 "nbformat_minor": 2
}
