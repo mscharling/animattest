{
 "cells": [
  {
   "cell_type": "markdown",
   "metadata": {},
   "source": [
    "# Logistisk regression\n",
    "\n",
    "I dette afsnit vil vi betragte en slags eksponentiel model med en øvre grænse. En normal eksponentiel regression antager, at din responsvariabel bliver ved med at udvikle sig eksponentielt. Det vil nok i en række tilfælde ikke være korrekt. Lad os tage udgangspunkt i et eksempel.\n",
    "\n",
    "I 2020 kom COVID-19 til Danmark og smitten med corona-virussen spredte sig hurtigt. For at lægge en dæmper på smitten, lukkede man landet ned og holdte folket hjemme i videst muligt omfang. Det hele handlede om at få det danske sundhedsvæsen til at kunne følge med - på samme tid med, at vi passede på de udsatte borgere. Under tiden kunne vaccinen færdigudviklet. Den måde, som man så smitten sprede sig på, fulgte eksponentiel vækst. Men, ville det give mening at modellere det som eksponentiel vækst? Nej, ikke rigtigt. Vi er jo ikke en ubegrænset menneskeskare, så på et tidspunkt vil der ikke være flere at kunne smitte. Der er jo en naturligt øvre grænse på smitten, nemlig antallet af indbyggere i Danmark. Derfor giver det mere mening at kigge på en logistisk vækst, der ligner eksponentiel vækst til et punkt, hvorefter den begynder at flade ud - meget som vi ville forvente en kurve over antal smittede ville se ud, hvis ikke regeringen kom med tiltag for at dæmpe smitten.\n",
    "\n",
    "En logistisk regression følger formen:\n",
    "\n",
    "$$\n",
    "\n",
    "    f(x) = \\frac{c}{1 + b\\text{e}^{-ax}}.\n",
    "\n",
    "$$\n",
    "\n",
    "Betragter vi grafen for funktionen $f$, så vil vi have at:\n",
    "\n",
    "* $\\frac{c}{1+b}$ er den initielle værdi af vores model (skæringen på $y$-aksen).\n",
    "* $b>0$ gør, at kurven vokser meget til at starte, indtil den når "
   ]
  }
 ],
 "metadata": {
  "language_info": {
   "name": "python"
  },
  "orig_nbformat": 4
 },
 "nbformat": 4,
 "nbformat_minor": 2
}
