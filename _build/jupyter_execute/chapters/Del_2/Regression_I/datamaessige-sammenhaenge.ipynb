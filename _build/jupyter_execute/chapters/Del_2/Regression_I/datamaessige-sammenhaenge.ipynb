{
 "cells": [
  {
   "cell_type": "markdown",
   "metadata": {},
   "source": [
    "# Datamæssige sammenhænge\n",
    "\n",
    "Når vi arbejder med datamæssige sammenhænge undersøger vi potentielle sammenhænge i vores indsamlet data. Oftest, når vi arbejder med data på den måde, så har vi forud for dataindsamlingen en hypotese for, hvilke sammenhænge vi vil se. Eksempelvis, hvis vi gik ud og spurgte rige personer, hvilken bil de kører rundt i, så har vi en forventning om, at det vil være dyre biler. Ind i mellem kan der godt være nogle, der ikke følger den forventning, men i det større perspektiv, så vil data over indkomst og bilens værdi nok vise, at der er en sammenhæng."
   ]
  },
  {
   "cell_type": "markdown",
   "metadata": {},
   "source": [
    "## Scatterplot\n",
    "\n",
    "For at komme et skridt nærmere på at forstå, om vores data udviser en form for tendens, kan vi plotte vores datapunkter mod hinanden. Det gør vi i et såkaldt *scatterplot*. Lad os vise dette med et eksempel.\n",
    "\n",
    "````{prf:eksempel} \n",
    ":label: hoejde-og-skostoerrelse-scatter\n",
    "\n",
    "Vi får til opgave at undersøge, om der er en sammenhæng mellem højder og skostørrelser på elever i en klasse på et gymnasium. Vi indsamler følgende data\n",
    "\n",
    "| Højde i cm | Skostørrelse |\n",
    "| ---------- | ------------ |\n",
    "| 182.3      | 43           |\n",
    "| 184.4      | 44           |\n",
    "| 168.1      | 39           |\n",
    "| 165.4      | 37           |\n",
    "| 164.7      | 37           |\n",
    "| 172.1      | 40           |\n",
    "| 191.4      | 46           |\n",
    "| 197.8      | 46           |\n",
    "| 187.9      | 44           |\n",
    "| 182.1      | 42           |\n",
    "| 182.6      | 43           |\n",
    "| 188.2      | 44           |\n",
    "| 190.0      | 45           |\n",
    "| 181.7      | 42           |\n",
    "| 169.4      | 39           |\n",
    "\n",
    "Vi lader nu Højde i cm være variablen langs $x$-aksen og Skostørrelse være variablen langs $y$-aksen.\n",
    "\n",
    "```{glue:figure} scatter\n",
    "```\n",
    "\n",
    "Af scatterplottet bliver det tydeligt, at der er en tendens: Elever, der er højere, bruger også større sko.\n",
    "\n",
    "````"
   ]
  },
  {
   "cell_type": "code",
   "execution_count": 1,
   "metadata": {
    "tags": [
     "remove-cell"
    ]
   },
   "outputs": [
    {
     "data": {
      "image/png": "[encoded data removed]",
      "text/plain": [
       "<Figure size 640x480 with 1 Axes>"
      ]
     },
     "metadata": {},
     "output_type": "display_data"
    }
   ],
   "source": [
    "import pandas as pd\n",
    "import matplotlib.pyplot as plt \n",
    "from myst_nb import glue\n",
    "\n",
    "df = pd.DataFrame({\n",
    "    'Højde i cm': [182.3,184.4,168.1,165.4,164.7,172.1,191.4,197.8,187.9,182.1,182.6,188.2,190.0,181.7,169.4],\n",
    "    'Skostørrelse': [43,44,39,37,37,40,46,46,44,42,43,44,45,42,39]\n",
    "})\n",
    "\n",
    "# Table\n",
    "\n",
    "\n",
    "# Scatter plot\n",
    "fig, ax = plt.subplots()\n",
    "ax.scatter(x=df['Højde i cm'],y=df['Skostørrelse'], color='#a5c743')\n",
    "ax.set_xlabel('Højde i cm')\n",
    "ax.set_ylabel('Skostørrelse')\n",
    "\n",
    "glue('scatter', fig, display=False)"
   ]
  },
  {
   "cell_type": "markdown",
   "metadata": {},
   "source": [
    "{prf:ref}`hoejde-og-skostoerrelse-scatter` er et eksempel på, hvor vi har et datasæt på formen $(x_1,y_1),(x_2,y_2),\\dots,(x_n,y_n)$, hvor $n$ angiver antallet af observationer. Hver række i tabellen angiver et datapar $(x,y)$. For et sådan datasæt giver scatterplottet en let og intuitiv måde at se, om der er sammenhæng mellem vores to variabler."
   ]
  },
  {
   "cell_type": "markdown",
   "metadata": {},
   "source": [
    "(ch-korrelationskoefficienten_i)=\n",
    "## Korrelationskoefficienten I\n",
    "\n",
    "Sammenhæng i vores data kan også kvantificeres gennem korrelation. Korrelationskoefficienten er et tal, der siger noget om, hvordan den ene variabel opfører sig i forhold til den anden variabel. Tallet benævnes ofte med det græske bogstav $\\rho$ (udtales \"rho\").\n",
    "\n",
    "I vores eksempel fra før havde vi, at når den ene variabel var større, så var den anden variabel også større. Vi siger, at de to variabler er *positivt korrelerede*. Det modsatte tilfælde kan du også støde på. Når en variabel bliver mindre, mens den anden variabel bliver større, så er de to variabler *negativt korrelerede*. Hvis to variabler udvikler uden en tendens med hinanden, så vil de to variabler være *ukorrelerede*.\n",
    "\n",
    "Korrelationskoefficienten $\\rho$ forsøger at kvantificere dette. Koefficienten kan være et tal mellem -1 og 1, altså $\\rho\\in[-1,1]$. Det er en størrelse, som dit CAS-værktøj kan regne for dig.\n",
    "\n",
    "```{prf:eksempel}\n",
    ":label: hoejde-og-skostoerrelse-korrelation\n",
    "\n",
    "Lad os også prøve at regne korrelationskoefficienten for vores indsamlet data fra {prf:ref}`hoejde-og-skostoerrelse-scatter`.\n",
    "\n",
    "Med hjælp fra et CAS-værktøj fås en korrelationskoefficient på\n",
    "\n",
    "$$\n",
    "\n",
    "    \\rho = 0{,}982,\n",
    "\n",
    "$$\n",
    "\n",
    "hvilket fortæller, at Højder i cm og Skostørrelse er positivt korrelerede variabler. Det var også det, som vi kunne konkludere på baggrund af scatterplottet.\n",
    "\n",
    "```"
   ]
  },
  {
   "cell_type": "code",
   "execution_count": 2,
   "metadata": {
    "tags": [
     "remove-cell"
    ]
   },
   "outputs": [
    {
     "data": {
      "text/plain": [
       "array([[1.        , 0.98231368],\n",
       "       [0.98231368, 1.        ]])"
      ]
     },
     "execution_count": 2,
     "metadata": {},
     "output_type": "execute_result"
    }
   ],
   "source": [
    "import numpy as np\n",
    "\n",
    "# Correlation coefficient\n",
    "np.corrcoef(df['Højde i cm'],df['Skostørrelse'])"
   ]
  },
  {
   "cell_type": "markdown",
   "metadata": {},
   "source": [
    "```"
   ]
  },
  {
   "cell_type": "markdown",
   "metadata": {},
   "source": [
    "Lad os formalisere det, som vi har lært om korrelationskoefficienten. Lad $X$ og $Y$ være to variabler, der repræsenterer noget data, som vi har indsamlet. Da er \n",
    "\n",
    "$$\n",
    "\n",
    "    \\rho = \\text{Corr}(X,Y),\n",
    "\n",
    "$$\n",
    "\n",
    "hvor $\\text{Corr}$ står for \"correlation\", det engelske for korrelation. For denne størrelse har vi følgende tommelfingerregler: Opfylder korrelationskoefficienten at...\n",
    "\n",
    "* $\\rho = 1$, da er $X$ og $Y$ perfekt positivt korrelerede.\n",
    "* $0{,}8 \\leq \\rho < 1$, da er $X$ og $Y$ meget positivt korrelerede.\n",
    "* $0{,}5 \\leq \\rho < 0{,}8$, da er $X$ og $Y$ moderat positivt korrelerede.\n",
    "* $0{,}2 \\leq \\rho < 0{,}5$, da er $X$ og $Y$ svagt positivt korrelerede.\n",
    "* $-0{,}2 < \\rho < 0{,}2$, da er $X$ og $Y$ ukorrelerede.\n",
    "* $-0{,}5 < \\rho \\leq 0{,}2$, da er $X$ og $Y$ svagt negativt korrelerede.\n",
    "* $-0{,}8 < \\rho \\leq 0{,}5$, da er $X$ og $Y$ moderat negativt korrelerede.\n",
    "* $-1 < \\rho \\leq 0{,}8$, da er $X$ og $Y$ meget negativt korrelerede.\n",
    "* $\\rho = -1$, da er $X$ og $Y$ perfekt negativt korrelerede."
   ]
  },
  {
   "cell_type": "markdown",
   "metadata": {},
   "source": [
    "```"
   ]
  }
 ],
 "metadata": {
  "kernelspec": {
   "display_name": "Python 3",
   "language": "python",
   "name": "python3"
  },
  "language_info": {
   "codemirror_mode": {
    "name": "ipython",
    "version": 3
   },
   "file_extension": ".py",
   "mimetype": "text/x-python",
   "name": "python",
   "nbconvert_exporter": "python",
   "pygments_lexer": "ipython3",
   "version": "3.8.10"
  }
 },
 "nbformat": 4,
 "nbformat_minor": 2
}