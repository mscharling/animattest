{
 "cells": [
  {
   "cell_type": "markdown",
   "metadata": {},
   "source": [
    "# Datamæssige sammenhænge\n",
    "\n",
    "Når vi arbejder med datamæssige sammenhænge undersøger vi potentielle sammenhænge i vores indsamlet data. Oftest, når vi arbejder med data på den måde, så har vi forud for dataindsamlingen en hypotese for, hvilke sammenhænge vi vil se. Eksempelvis, hvis vi gik ud og spurgte rige personer, hvilken bil de kører rundt i, så har vi en forventning om, at det vil være dyre biler. Ind i mellem kan der godt være nogle, der ikke følger den forventning, men i det større perspektiv, så vil data over indkomst og bilens værdi nok vise, at der er en sammenhæng."
   ]
  },
  {
   "cell_type": "markdown",
   "metadata": {},
   "source": [
    "## Scatterplot\n",
    "\n",
    "For at komme et skridt nærmere på at forstå, om vores data udviser en form for tendens, kan vi plotte vores datapunkter mod hinanden. Det gør vi i et såkaldt *scatterplot*. Lad os vise dette med et eksempel.\n",
    "\n",
    "````{prf:eksempel} \n",
    ":label: hoejde-og-skostoerrelse-scatter\n",
    "\n",
    "Vi får til opgave at undersøge, om der er en sammenhæng mellem højder og skostørrelser på elever i en klasse på et gymnasium. Vi indsamler følgende data, som er gemt i filen {download}`eks_hoejde-og-skostoerrelse.xlsx<./eks_hoejde-og-skostoerrelse.xlsx>`\n",
    "\n",
    "| Højde i cm | Skostørrelse |\n",
    "| ---------- | ------------ |\n",
    "| 182.3      | 43           |\n",
    "| 184.4      | 44           |\n",
    "| 168.1      | 39           |\n",
    "| $\\vdots$   | $\\vdots$     |\n",
    "\n",
    "Vi lader nu *Højde i cm* være variablen langs $x$-aksen og *Skostørrelse være variablen* langs $y$-aksen.\n",
    "\n",
    "```{glue:figure} scatter\n",
    "```\n",
    "\n",
    "Af scatterplottet bliver det tydeligt, at der er en tendens: Elever, der er højere, bruger også større sko.\n",
    "\n",
    "````"
   ]
  },
  {
   "cell_type": "code",
   "execution_count": 1,
   "metadata": {
    "tags": [
     "remove-cell"
    ]
   },
   "outputs": [
    {
     "data": {
      "image/png": "[encoded data removed]",
      "text/plain": [
       "<Figure size 640x480 with 1 Axes>"
      ]
     },
     "metadata": {},
     "output_type": "display_data"
    }
   ],
   "source": [
    "import pandas as pd\n",
    "import matplotlib.pyplot as plt \n",
    "from myst_nb import glue\n",
    "\n",
    "animat_green = \"#aecc55\"\n",
    "animat_red = \"#cc5241\"\n",
    "animat_yellow = \"#d9c750\"\n",
    "animat_blue = \"#6a90cc\"\n",
    "\n",
    "# Data\n",
    "df = pd.DataFrame({\n",
    "    'Højde i cm': [182.3,184.4,168.1,165.4,164.7,172.1,191.4,197.8,187.9,182.1,182.6,188.2,190.0,181.7,169.4],\n",
    "    'Skostørrelse': [43,44,39,37,37,40,46,46,44,42,43,44,45,42,39]\n",
    "})\n",
    "\n",
    "# Initialize plot mimicing manim/TikZ\n",
    "# Enable LaTeX for all text\n",
    "plt.rc('text', usetex=True)\n",
    "plt.rc('font', family='serif')\n",
    "\n",
    "# Scatter plot\n",
    "fig, ax = plt.subplots()\n",
    "ax.scatter(x=df['Højde i cm'],y=df['Skostørrelse'], color=animat_green)\n",
    "\n",
    "# Remove top and right spines\n",
    "ax.spines[['top', 'right']].set_visible(False)\n",
    "\n",
    "# Draw axis arrow tips\n",
    "ax.plot(1, 0, \">k\", transform=ax.transAxes, clip_on=False, markersize=15)  \n",
    "ax.plot(0, 1, \"^k\", transform=ax.transAxes, clip_on=False, markersize=15) \n",
    "\n",
    "# Draw ticks\n",
    "ax.tick_params(direction='inout', length=8, labelsize=12)\n",
    "\n",
    "# Write x and y labels\n",
    "ax.set_xlabel('Højde i cm', fontsize=12)\n",
    "ax.set_ylabel('Skostørrelse', fontsize=12)\n",
    "# plt.xlabel(r'\\textit{x}', fontsize=14)\n",
    "# plt.ylabel(r'\\textit{y}', fontsize=14, rotation=0)\n",
    "# ax.xaxis.set_label_coords(1.025, 0.075)\n",
    "# ax.yaxis.set_label_coords(0.035, 1.025)\n",
    "\n",
    "glue('scatter', fig, display=False)"
   ]
  },
  {
   "cell_type": "markdown",
   "metadata": {},
   "source": [
    "{prf:ref}`hoejde-og-skostoerrelse-scatter` er et eksempel på, hvor vi har et datasæt på formen $(x_1,y_1),(x_2,y_2),\\dots,(x_n,y_n)$, hvor $n$ angiver antallet af observationer. Hver række i tabellen angiver et datapar $(x,y)$. For et sådan datasæt giver scatterplottet en let og intuitiv måde at se, om der er sammenhæng mellem vores to variabler."
   ]
  },
  {
   "cell_type": "markdown",
   "metadata": {},
   "source": [
    "(ch-korrelationskoefficienten_i)=\n",
    "## Korrelationskoefficienten I\n",
    "\n",
    "Sammenhæng i vores data kan også {term}`kvantificere`s gennem korrelation. Korrelationskoefficienten er et tal, der siger noget om, hvordan den ene variabel opfører sig i forhold til den anden variabel. Tallet benævnes ofte med det græske bogstav $\\rho$ (udtales \"rho\").\n",
    "\n",
    "I vores eksempel fra før havde vi, at når den ene variabel var større, så var den anden variabel også større. Vi siger, at de to variabler er *positivt korrelerede*. Det modsatte tilfælde kan du også støde på. Når en variabel bliver mindre, mens den anden variabel bliver større, så er de to variabler *negativt korrelerede*. Hvis to variabler udvikler uden en tendens med hinanden, så vil de to variabler være *ukorrelerede*.\n",
    "\n",
    "Korrelationskoefficienten $\\rho$ forsøger at kvantificere dette. Koefficienten kan være et tal mellem -1 og 1, altså $\\rho\\in[-1,1]$. Det er en størrelse, som dit CAS-værktøj kan regne for dig.\n",
    "\n",
    "```{prf:eksempel}\n",
    ":label: positiv-korrelation\n",
    "\n",
    "Lad os også prøve at regne korrelationskoefficienten for vores indsamlet data fra {prf:ref}`hoejde-og-skostoerrelse-scatter`.\n",
    "\n",
    "Med hjælp fra et CAS-værktøj fås en korrelationskoefficient på\n",
    "\n",
    "$$\n",
    "\n",
    "    \\rho = 0{,}982,\n",
    "\n",
    "$$\n",
    "\n",
    "hvilket fortæller, at Højder i cm og Skostørrelse er positivt korrelerede variabler. Det var også det, som vi kunne konkludere på baggrund af scatterplottet.\n",
    "\n",
    "```"
   ]
  },
  {
   "cell_type": "code",
   "execution_count": 2,
   "metadata": {
    "tags": [
     "remove-cell"
    ]
   },
   "outputs": [
    {
     "data": {
      "text/plain": [
       "array([[1.        , 0.98231368],\n",
       "       [0.98231368, 1.        ]])"
      ]
     },
     "execution_count": 2,
     "metadata": {},
     "output_type": "execute_result"
    }
   ],
   "source": [
    "import numpy as np\n",
    "\n",
    "# Correlation coefficient\n",
    "np.corrcoef(df['Højde i cm'],df['Skostørrelse'])"
   ]
  },
  {
   "cell_type": "markdown",
   "metadata": {},
   "source": [
    "```"
   ]
  },
  {
   "cell_type": "markdown",
   "metadata": {},
   "source": [
    "Lad os formalisere det, som vi har lært om korrelationskoefficienten. Lad $X$ og $Y$ være to variabler, der repræsenterer noget data, som vi har indsamlet. Da er \n",
    "\n",
    "$$\n",
    "\n",
    "    \\rho = \\text{Corr}(X,Y),\n",
    "\n",
    "$$\n",
    "\n",
    "hvor $\\text{Corr}$ står for \"correlation\", det engelske for korrelation. For denne størrelse har vi følgende tommelfingerregler: Opfylder korrelationskoefficienten at...\n",
    "\n",
    "| Korrelationskoefficient      | Grad af korrelation mellem $X$ og $Y$       | \n",
    "| ---------------------------- | ------------------------------------------- |\n",
    "| $\\rho = 1$                   | $X$ og $Y$ er perfekt korrelerede.          |\n",
    "| $0{,}8 \\leq \\rho < 1$        | $X$ og $Y$ er meget positivt korrelerede.   |\n",
    "| $0{,}5 \\leq \\rho < 0{,}8$    | $X$ og $Y$ er moderat positivt korrelerede. |\n",
    "| $0{,}2 \\leq \\rho < 0{,}5$    | $X$ og $Y$ er svagt positivt korrelerede.   |\n",
    "| $-0{,}2 < \\rho < 0{,}2$      | $X$ og $Y$ er ukorrelerede.                 |\n",
    "| $-0{,}5 < \\rho \\leq 0{,}2$   | $X$ og $Y$ er svagt negativt korrelerede.   | \n",
    "| $-0{,}8 < \\rho \\leq 0{,}5$   | $X$ og $Y$ er moderat negativt korrelerede. |\n",
    "| $-1 < \\rho \\leq 0{,}8$       | $X$ og $Y$ er meget negativt korrelerede.   |\n",
    "| $\\rho = -1$                  | $X$ og $Y$ er perfekt negativt korrelerede. |\n",
    "\n",
    "For at få en forståelse for de tilfælde, hvor vi har med negativ korrelation at gøre, gennemgår vi følgende eksempel:\n",
    "\n",
    "````{prf:eksempel}\n",
    ":label: negativ-korrelation\n",
    "\n",
    "Vi ønsker at undersøge sammenhængen mellem *daglig gennemsnitstemperatur* (i °C) og *dagligt fjernvarmeforbrug* (i kWh). Vi indsamler data for 10 dage i vinterhalvåret, som er gemt i filen {download}`eks_temperatur-og-fjernvarme.xlsx <./eks_temperatur-og-fjernvarme.xlsx>`:\n",
    "\n",
    "| Gennemsnitstemperatur (°C) | Fjernvarmeforbrug (kWh) |\n",
    "| -------------------------- | ----------------------- |\n",
    "|  2                         | 100                     |\n",
    "|  4                         | 90                      |\n",
    "|  5                         | 80                      |\n",
    "|  $\\vdots$                  | $\\vdots$                |\n",
    "\n",
    "Her er $x$-variablen \"Gennemsnitstemperatur i °C\" og $y$-variablen \"Fjernvarmeforbrug i kWh\".\n",
    "\n",
    "Hvis vi plottede disse datapunkter i et scatterplot, ville vi visuelt se en tydelig tendens til, at når temperaturen stiger, så falder fjernvarmeforbruget. \n",
    "\n",
    "```{glue:figure} scatter_neg\n",
    "```\n",
    "\n",
    "Vi beregner korrelationskoefficienten vha. et CAS-værktøj:\n",
    "\n",
    "$$\n",
    "    \\rho = -0{,}994.\n",
    "$$\n",
    "\n",
    "Korrelationskoefficienten ligger tæt på -1, hvilket bekræfter, at vi har en negativ korrelation mellem de to variabler. Når den ene variabel (temperaturen) øges, falder den anden (fjernvarmeforbrug).\n",
    "\n",
    "````"
   ]
  },
  {
   "cell_type": "code",
   "execution_count": 3,
   "metadata": {
    "tags": [
     "remove-cell"
    ]
   },
   "outputs": [
    {
     "data": {
      "text/plain": [
       "-0.9944488552584198"
      ]
     },
     "execution_count": 3,
     "metadata": {},
     "output_type": "execute_result"
    },
    {
     "data": {
      "image/png": "[encoded data removed]",
      "text/plain": [
       "<Figure size 640x480 with 1 Axes>"
      ]
     },
     "metadata": {},
     "output_type": "display_data"
    }
   ],
   "source": [
    "import pandas as pd\n",
    "import numpy as np\n",
    "import matplotlib.pyplot as plt\n",
    "from myst_nb import glue\n",
    "\n",
    "animat_green = \"#aecc55\"\n",
    "animat_red = \"#cc5241\"\n",
    "animat_yellow = \"#d9c750\"\n",
    "animat_blue = \"#6a90cc\"\n",
    "\n",
    "# Data\n",
    "df_neg = pd.DataFrame({\n",
    "    'Temp': [2, 4, 5, 9, 10, 12, 14, 16, 18, 20],\n",
    "    'Forbrug': [100, 90, 80, 70, 68, 60, 52, 47, 38, 32]\n",
    "})\n",
    "\n",
    "rho_neg = np.corrcoef(df_neg['Temp'], df_neg['Forbrug'])[0,1]\n",
    "\n",
    "# Initialize plot mimicing manim/TikZ\n",
    "# Enable LaTeX for all text\n",
    "plt.rc('text', usetex=True)\n",
    "plt.rc('font', family='serif')\n",
    "\n",
    "fig_neg, ax_neg = plt.subplots()\n",
    "ax_neg.scatter(x=df_neg['Temp'], y=df_neg['Forbrug'], color=animat_red)\n",
    "\n",
    "# Fjern top- og højre-akse\n",
    "ax_neg.spines[['top', 'right']].set_visible(False)\n",
    "\n",
    "# Pil-effekt på akserne\n",
    "ax_neg.plot(1, 0, \">k\", transform=ax_neg.transAxes, clip_on=False, markersize=10)  \n",
    "ax_neg.plot(0, 1, \"^k\", transform=ax_neg.transAxes, clip_on=False, markersize=10)\n",
    "\n",
    "ax_neg.tick_params(direction='inout', length=8, labelsize=12)\n",
    "\n",
    "ax_neg.set_xlabel(r'Gennemsnitstemperatur ($^\\circ\\mathrm{C}$)', fontsize=12)\n",
    "ax_neg.set_ylabel('Fjernvarmeforbrug (kWh)', fontsize=12)\n",
    "\n",
    "glue('scatter_neg', fig_neg, display=False)\n",
    "rho_neg"
   ]
  },
  {
   "cell_type": "markdown",
   "metadata": {},
   "source": [
    "Oftest har vi en idé om opførselen af det data, som vi ønsker at undersøge, inden vi har lavet undersøgelsen. For eksempel, så giver det god mening, at der ikke er sammenhæng mellem hvor, du bor, og hvor store sko, du bruger. Du kan dog godt komme ud for, at du indsamler noget data, der ikke udviser den tendens, som du forventede. Det kan skyldes støj i din indsamling eller at du bare har en uheldig stikprøve. Lad os kigge på et eksempel, hvor vi ikke med data kan konkludere, at der er en sammenhæng mellem de to variabler.\n",
    "\n",
    "````{prf:eksempel}\n",
    ":label: ingen-korrelation\n",
    "\n",
    "Vi ønsker at undersøge sammenhængen mellem *skærmtid per dag* (målt i timer) og *karaktergennemsnit* hos en gruppe gymnasieelever. Vi indsamler data for 12 elever, gemt i filen {download}`eks_skaermtid-og-karakterer.xlsx <./eks_skaermtid-og-karakterer.xlsx>`:\n",
    "\n",
    "| Skærmtid pr. dag (timer) | Karaktergennemsnit |\n",
    "| ------------------------ | ------------------ |\n",
    "| 2                        | 7,1                |\n",
    "| 3                        | 10,5               |\n",
    "| 6                        | 4,2                |\n",
    "| $\\vdots$                 | $\\vdots$           |\n",
    "\n",
    "Her lader vi *Skærmtid pr. dag* være $x$-aksen og *Karaktergennemsnit* være $y$-aksen. Vores hypotese kunne have været, at mere skærmtid ville give lavere karakterer (negativ korrelation), men lad os se, hvad data viser.\n",
    "\n",
    "```{glue:figure} scatter_skaerm\n",
    "```\n",
    "\n",
    "CAS-beregningen viser, at korrelationskoefficienten\n",
    "\n",
    "$$\n",
    "    \\rho = 0{,}031,\n",
    "$$\n",
    "\n",
    "som er meget tæt på nul. Det betyder, at der ikke er nogen entydig lineær sammenhæng mellem skærmtid og karaktergennemsnit i dette datasæt. Det er et eksempel på, at man godt kan forvente en effekt, men at ens reelle data kan være for støjfyldte eller baseret på en for lille (eller uheldig) stikprøve til at bekræfte hypotesen.\n",
    "\n",
    "````"
   ]
  },
  {
   "cell_type": "code",
   "execution_count": 4,
   "metadata": {
    "tags": [
     "remove-cell"
    ]
   },
   "outputs": [
    {
     "data": {
      "text/plain": [
       "0.030881041181537294"
      ]
     },
     "execution_count": 4,
     "metadata": {},
     "output_type": "execute_result"
    },
    {
     "data": {
      "image/png": "[encoded data removed]",
      "text/plain": [
       "<Figure size 640x480 with 1 Axes>"
      ]
     },
     "metadata": {},
     "output_type": "display_data"
    }
   ],
   "source": [
    "import pandas as pd\n",
    "import numpy as np\n",
    "import matplotlib.pyplot as plt\n",
    "from myst_nb import glue\n",
    "\n",
    "animat_green = \"#aecc55\"\n",
    "animat_red = \"#cc5241\"\n",
    "animat_yellow = \"#d9c750\"\n",
    "animat_blue = \"#6a90cc\"\n",
    "\n",
    "df_skaerm = pd.DataFrame({\n",
    "    'Skaermtid': [2, 3, 6, 4, 1, 5, 3, 7, 2, 5, 3, 4],\n",
    "    'Karakter':  [7.1, 10.5, 4.2, 9.7, 7.4, 8.8, 11.9, 10.2, 4.6, 4.6, 6.2, 8.1]\n",
    "})\n",
    "\n",
    "# Beregn korrelationskoefficient\n",
    "rho_skaerm = np.corrcoef(df_skaerm['Skaermtid'], df_skaerm['Karakter'])[0,1]\n",
    "\n",
    "# Initialize plot mimicing manim/TikZ\n",
    "# Enable LaTeX for all text\n",
    "plt.rc('text', usetex=True)\n",
    "plt.rc('font', family='serif')\n",
    "\n",
    "fig_skaerm, ax_skaerm = plt.subplots()\n",
    "ax_skaerm.scatter(df_skaerm['Skaermtid'], df_skaerm['Karakter'], color=animat_yellow)\n",
    "\n",
    "# Fjern top- og højre akse\n",
    "ax_skaerm.spines[['top', 'right']].set_visible(False)\n",
    "\n",
    "# Pil-effekt på akserne\n",
    "ax_skaerm.plot(1, 0, \">k\", transform=ax_skaerm.transAxes, clip_on=False, markersize=10)\n",
    "ax_skaerm.plot(0, 1, \"^k\", transform=ax_skaerm.transAxes, clip_on=False, markersize=10)\n",
    "\n",
    "ax_skaerm.tick_params(direction='inout', length=8, labelsize=12)\n",
    "\n",
    "ax_skaerm.set_xlabel('Skærmtid pr. dag (timer)', fontsize=12)\n",
    "ax_skaerm.set_ylabel('Karaktergennemsnit', fontsize=12)\n",
    "\n",
    "glue('scatter_skaerm', fig_skaerm, display=False)\n",
    "rho_skaerm"
   ]
  },
  {
   "cell_type": "markdown",
   "metadata": {},
   "source": [
    "Som det fremgår, kan selv en umiddelbart *logisk* forventning om en korrelation ende med en resultatværdi af $\\rho$ nær 0, hvis data er for spredte eller ikke indsamlet på en måde, der afspejler den forventede effekt."
   ]
  },
  {
   "cell_type": "markdown",
   "metadata": {},
   "source": [
    "```"
   ]
  }
 ],
 "metadata": {
  "kernelspec": {
   "display_name": "venv-animat",
   "language": "python",
   "name": "python3"
  },
  "language_info": {
   "codemirror_mode": {
    "name": "ipython",
    "version": 3
   },
   "file_extension": ".py",
   "mimetype": "text/x-python",
   "name": "python",
   "nbconvert_exporter": "python",
   "pygments_lexer": "ipython3",
   "version": "3.8.10"
  }
 },
 "nbformat": 4,
 "nbformat_minor": 2
}